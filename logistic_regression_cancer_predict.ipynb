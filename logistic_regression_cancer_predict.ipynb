{
 "cells": [
  {
   "cell_type": "markdown",
   "metadata": {},
   "source": [
    "### 암 예측하기"
   ]
  },
  {
   "cell_type": "code",
   "execution_count": 1,
   "metadata": {},
   "outputs": [],
   "source": [
    "import numpy\n",
    "import pandas as pd\n",
    "from statsmodels.formula.api import logit"
   ]
  },
  {
   "cell_type": "code",
   "execution_count": 35,
   "metadata": {},
   "outputs": [],
   "source": [
    "#이미지 삽입\n",
    "from IPython.display import Image"
   ]
  },
  {
   "cell_type": "code",
   "execution_count": 5,
   "metadata": {},
   "outputs": [
    {
     "data": {
      "text/html": [
       "<div>\n",
       "<style scoped>\n",
       "    .dataframe tbody tr th:only-of-type {\n",
       "        vertical-align: middle;\n",
       "    }\n",
       "\n",
       "    .dataframe tbody tr th {\n",
       "        vertical-align: top;\n",
       "    }\n",
       "\n",
       "    .dataframe thead th {\n",
       "        text-align: right;\n",
       "    }\n",
       "</style>\n",
       "<table border=\"1\" class=\"dataframe\">\n",
       "  <thead>\n",
       "    <tr style=\"text-align: right;\">\n",
       "      <th></th>\n",
       "      <th>diagnosis</th>\n",
       "      <th>texture_mean</th>\n",
       "      <th>smoothness_mean</th>\n",
       "      <th>concave_points_mean</th>\n",
       "      <th>symmetry_mean</th>\n",
       "      <th>perimeter_se</th>\n",
       "      <th>compactness_se</th>\n",
       "      <th>concavity_se</th>\n",
       "      <th>concave_points_se</th>\n",
       "      <th>area_worst</th>\n",
       "      <th>smoothness_worst</th>\n",
       "      <th>symmetry_worst</th>\n",
       "      <th>fractal_dimension_worst</th>\n",
       "    </tr>\n",
       "  </thead>\n",
       "  <tbody>\n",
       "    <tr>\n",
       "      <th>0</th>\n",
       "      <td>M</td>\n",
       "      <td>10.38</td>\n",
       "      <td>0.11840</td>\n",
       "      <td>0.14710</td>\n",
       "      <td>0.2419</td>\n",
       "      <td>8.589</td>\n",
       "      <td>0.04904</td>\n",
       "      <td>0.05373</td>\n",
       "      <td>0.01587</td>\n",
       "      <td>2019.0</td>\n",
       "      <td>0.1622</td>\n",
       "      <td>0.4601</td>\n",
       "      <td>0.11890</td>\n",
       "    </tr>\n",
       "    <tr>\n",
       "      <th>1</th>\n",
       "      <td>M</td>\n",
       "      <td>17.77</td>\n",
       "      <td>0.08474</td>\n",
       "      <td>0.07017</td>\n",
       "      <td>0.1812</td>\n",
       "      <td>3.398</td>\n",
       "      <td>0.01308</td>\n",
       "      <td>0.01860</td>\n",
       "      <td>0.01340</td>\n",
       "      <td>1956.0</td>\n",
       "      <td>0.1238</td>\n",
       "      <td>0.2750</td>\n",
       "      <td>0.08902</td>\n",
       "    </tr>\n",
       "    <tr>\n",
       "      <th>2</th>\n",
       "      <td>M</td>\n",
       "      <td>21.25</td>\n",
       "      <td>0.10960</td>\n",
       "      <td>0.12790</td>\n",
       "      <td>0.2069</td>\n",
       "      <td>4.585</td>\n",
       "      <td>0.04006</td>\n",
       "      <td>0.03832</td>\n",
       "      <td>0.02058</td>\n",
       "      <td>1709.0</td>\n",
       "      <td>0.1444</td>\n",
       "      <td>0.3613</td>\n",
       "      <td>0.08758</td>\n",
       "    </tr>\n",
       "    <tr>\n",
       "      <th>3</th>\n",
       "      <td>M</td>\n",
       "      <td>20.38</td>\n",
       "      <td>0.14250</td>\n",
       "      <td>0.10520</td>\n",
       "      <td>0.2597</td>\n",
       "      <td>3.445</td>\n",
       "      <td>0.07458</td>\n",
       "      <td>0.05661</td>\n",
       "      <td>0.01867</td>\n",
       "      <td>567.7</td>\n",
       "      <td>0.2098</td>\n",
       "      <td>0.6638</td>\n",
       "      <td>0.17300</td>\n",
       "    </tr>\n",
       "    <tr>\n",
       "      <th>4</th>\n",
       "      <td>M</td>\n",
       "      <td>14.34</td>\n",
       "      <td>0.10030</td>\n",
       "      <td>0.10430</td>\n",
       "      <td>0.1809</td>\n",
       "      <td>5.438</td>\n",
       "      <td>0.02461</td>\n",
       "      <td>0.05688</td>\n",
       "      <td>0.01885</td>\n",
       "      <td>1575.0</td>\n",
       "      <td>0.1374</td>\n",
       "      <td>0.2364</td>\n",
       "      <td>0.07678</td>\n",
       "    </tr>\n",
       "  </tbody>\n",
       "</table>\n",
       "</div>"
      ],
      "text/plain": [
       "  diagnosis  texture_mean  smoothness_mean  concave_points_mean  \\\n",
       "0         M         10.38          0.11840              0.14710   \n",
       "1         M         17.77          0.08474              0.07017   \n",
       "2         M         21.25          0.10960              0.12790   \n",
       "3         M         20.38          0.14250              0.10520   \n",
       "4         M         14.34          0.10030              0.10430   \n",
       "\n",
       "   symmetry_mean  perimeter_se  compactness_se  concavity_se  \\\n",
       "0         0.2419         8.589         0.04904       0.05373   \n",
       "1         0.1812         3.398         0.01308       0.01860   \n",
       "2         0.2069         4.585         0.04006       0.03832   \n",
       "3         0.2597         3.445         0.07458       0.05661   \n",
       "4         0.1809         5.438         0.02461       0.05688   \n",
       "\n",
       "   concave_points_se  area_worst  smoothness_worst  symmetry_worst  \\\n",
       "0            0.01587      2019.0            0.1622          0.4601   \n",
       "1            0.01340      1956.0            0.1238          0.2750   \n",
       "2            0.02058      1709.0            0.1444          0.3613   \n",
       "3            0.01867       567.7            0.2098          0.6638   \n",
       "4            0.01885      1575.0            0.1374          0.2364   \n",
       "\n",
       "   fractal_dimension_worst  \n",
       "0                  0.11890  \n",
       "1                  0.08902  \n",
       "2                  0.08758  \n",
       "3                  0.17300  \n",
       "4                  0.07678  "
      ]
     },
     "execution_count": 5,
     "metadata": {},
     "output_type": "execute_result"
    }
   ],
   "source": [
    "df=pd.read_excel('data/cancer.xlsx')\n",
    "df.head()"
   ]
  },
  {
   "cell_type": "code",
   "execution_count": 9,
   "metadata": {},
   "outputs": [
    {
     "data": {
      "text/plain": [
       "B    357\n",
       "M    212\n",
       "Name: diagnosis, dtype: int64"
      ]
     },
     "execution_count": 9,
     "metadata": {},
     "output_type": "execute_result"
    }
   ],
   "source": [
    "df['diagnosis'].value_counts()"
   ]
  },
  {
   "cell_type": "code",
   "execution_count": 12,
   "metadata": {},
   "outputs": [],
   "source": [
    "# 종속변수 더미코딩 해주기\n",
    "df['dn'] = df['diagnosis'].map({'M': 1, 'B': 0})"
   ]
  },
  {
   "cell_type": "markdown",
   "metadata": {},
   "source": [
    "### 모형 1\n",
    "- 독립변수: area_worst, smoothness_worst, symmetry_worst, fractal_dimension_worst\n",
    "- 종속변수: diagnosis"
   ]
  },
  {
   "cell_type": "code",
   "execution_count": 27,
   "metadata": {},
   "outputs": [
    {
     "name": "stdout",
     "output_type": "stream",
     "text": [
      "Optimization terminated successfully.\n",
      "         Current function value: 0.112036\n",
      "         Iterations 10\n"
     ]
    },
    {
     "data": {
      "text/html": [
       "<table class=\"simpletable\">\n",
       "<caption>Logit Regression Results</caption>\n",
       "<tr>\n",
       "  <th>Dep. Variable:</th>          <td>dn</td>        <th>  No. Observations:  </th>   <td>   569</td>  \n",
       "</tr>\n",
       "<tr>\n",
       "  <th>Model:</th>                 <td>Logit</td>      <th>  Df Residuals:      </th>   <td>   564</td>  \n",
       "</tr>\n",
       "<tr>\n",
       "  <th>Method:</th>                 <td>MLE</td>       <th>  Df Model:          </th>   <td>     4</td>  \n",
       "</tr>\n",
       "<tr>\n",
       "  <th>Date:</th>            <td>Wed, 28 Oct 2020</td> <th>  Pseudo R-squ.:     </th>   <td>0.8303</td>  \n",
       "</tr>\n",
       "<tr>\n",
       "  <th>Time:</th>                <td>12:32:54</td>     <th>  Log-Likelihood:    </th>  <td> -63.749</td> \n",
       "</tr>\n",
       "<tr>\n",
       "  <th>converged:</th>             <td>True</td>       <th>  LL-Null:           </th>  <td> -375.72</td> \n",
       "</tr>\n",
       "<tr>\n",
       "  <th>Covariance Type:</th>     <td>nonrobust</td>    <th>  LLR p-value:       </th> <td>1.019e-133</td>\n",
       "</tr>\n",
       "</table>\n",
       "<table class=\"simpletable\">\n",
       "<tr>\n",
       "             <td></td>                <th>coef</th>     <th>std err</th>      <th>z</th>      <th>P>|z|</th>  <th>[0.025</th>    <th>0.975]</th>  \n",
       "</tr>\n",
       "<tr>\n",
       "  <th>Intercept</th>               <td>  -26.2311</td> <td>    3.150</td> <td>   -8.327</td> <td> 0.000</td> <td>  -32.405</td> <td>  -20.057</td>\n",
       "</tr>\n",
       "<tr>\n",
       "  <th>area_worst</th>              <td>    0.0147</td> <td>    0.002</td> <td>    8.244</td> <td> 0.000</td> <td>    0.011</td> <td>    0.018</td>\n",
       "</tr>\n",
       "<tr>\n",
       "  <th>smoothness_worst</th>        <td>   68.3573</td> <td>   16.590</td> <td>    4.120</td> <td> 0.000</td> <td>   35.842</td> <td>  100.873</td>\n",
       "</tr>\n",
       "<tr>\n",
       "  <th>symmetry_worst</th>          <td>   10.6379</td> <td>    4.559</td> <td>    2.334</td> <td> 0.020</td> <td>    1.703</td> <td>   19.573</td>\n",
       "</tr>\n",
       "<tr>\n",
       "  <th>fractal_dimension_worst</th> <td>   17.9945</td> <td>   19.247</td> <td>    0.935</td> <td> 0.350</td> <td>  -19.728</td> <td>   55.717</td>\n",
       "</tr>\n",
       "</table><br/><br/>Possibly complete quasi-separation: A fraction 0.20 of observations can be<br/>perfectly predicted. This might indicate that there is complete<br/>quasi-separation. In this case some parameters will not be identified."
      ],
      "text/plain": [
       "<class 'statsmodels.iolib.summary.Summary'>\n",
       "\"\"\"\n",
       "                           Logit Regression Results                           \n",
       "==============================================================================\n",
       "Dep. Variable:                     dn   No. Observations:                  569\n",
       "Model:                          Logit   Df Residuals:                      564\n",
       "Method:                           MLE   Df Model:                            4\n",
       "Date:                Wed, 28 Oct 2020   Pseudo R-squ.:                  0.8303\n",
       "Time:                        12:32:54   Log-Likelihood:                -63.749\n",
       "converged:                       True   LL-Null:                       -375.72\n",
       "Covariance Type:            nonrobust   LLR p-value:                1.019e-133\n",
       "===========================================================================================\n",
       "                              coef    std err          z      P>|z|      [0.025      0.975]\n",
       "-------------------------------------------------------------------------------------------\n",
       "Intercept                 -26.2311      3.150     -8.327      0.000     -32.405     -20.057\n",
       "area_worst                  0.0147      0.002      8.244      0.000       0.011       0.018\n",
       "smoothness_worst           68.3573     16.590      4.120      0.000      35.842     100.873\n",
       "symmetry_worst             10.6379      4.559      2.334      0.020       1.703      19.573\n",
       "fractal_dimension_worst    17.9945     19.247      0.935      0.350     -19.728      55.717\n",
       "===========================================================================================\n",
       "\n",
       "Possibly complete quasi-separation: A fraction 0.20 of observations can be\n",
       "perfectly predicted. This might indicate that there is complete\n",
       "quasi-separation. In this case some parameters will not be identified.\n",
       "\"\"\""
      ]
     },
     "execution_count": 27,
     "metadata": {},
     "output_type": "execute_result"
    }
   ],
   "source": [
    "res=logit('dn ~ area_worst + smoothness_worst + symmetry_worst + fractal_dimension_worst', df).fit()\n",
    "res.summary()"
   ]
  },
  {
   "cell_type": "markdown",
   "metadata": {},
   "source": [
    "### 문제 풀기\n",
    "\n",
    "Q1. area_worst 의 기울기는? \n",
    "> 0.0147\n",
    "\n",
    "Q2. 위 모형1의 정확도는 얼마입니까? \n",
    "> 95%\n",
    "\n",
    "Q3. 위 모형1의 정밀도는 얼마입니까? \n",
    "> 96%\n",
    "\n",
    "Q4. 위 모형1의 재현도는 얼마입니까? \n",
    "> 92%\n",
    "\n",
    "Q5. fractal_dimension_worst을 제외한 모형2와 비교했을 때 어떤 모형이 로그우도가 높습니까? \n",
    "> 모형1\n",
    "\n",
    "Q6. 모형1과 모형2를 비교할 때 어떤 모형이 더 나은 모형이라고 할 수 있습니까? \n",
    "> 모형2"
   ]
  },
  {
   "cell_type": "code",
   "execution_count": 37,
   "metadata": {},
   "outputs": [],
   "source": [
    "from sklearn.metrics import confusion_matrix\n",
    "from sklearn.metrics import accuracy_score, precision_score, recall_score"
   ]
  },
  {
   "cell_type": "code",
   "execution_count": 18,
   "metadata": {},
   "outputs": [
    {
     "data": {
      "text/plain": [
       "array([[349,   8],\n",
       "       [ 16, 196]])"
      ]
     },
     "execution_count": 18,
     "metadata": {},
     "output_type": "execute_result"
    }
   ],
   "source": [
    "# 로지스틱 회귀 모델로 예측한 값과 실제 값을 넣어서 혼돈 행렬 만들기\n",
    "# 문턱값(threshold) = 0.5 라고 설정\n",
    "predict=res.predict(df)\n",
    "\n",
    "# 예측한 값이 0.5 보다 크면 1(암 맞음), 아니면 0(암 아님)\n",
    "prediction = numpy.where(predict > 0.5,1,0)\n",
    "confusion_matrix(df['dn'],prediction)"
   ]
  },
  {
   "cell_type": "code",
   "execution_count": 36,
   "metadata": {},
   "outputs": [
    {
     "data": {
      "image/jpeg": "[encoded data removed]",
      "text/plain": [
       "<IPython.core.display.Image object>"
      ]
     },
     "execution_count": 36,
     "metadata": {},
     "output_type": "execute_result"
    }
   ],
   "source": [
    "Image(\"https://static.packt-cdn.com/products/9781838555078/graphics/C13314_06_05.jpg\")"
   ]
  },
  {
   "cell_type": "markdown",
   "metadata": {},
   "source": [
    "[예측,실제]\n",
    "\n",
    "- TN (True Negative) [False, False] (정답)\n",
    "- FN (False Negative) [False, True] (오답)\n",
    "- FP (False Positive) [True, False] (오답)\n",
    "- TP (True Posivie) [True, True] (정답)"
   ]
  },
  {
   "cell_type": "code",
   "execution_count": 43,
   "metadata": {},
   "outputs": [
    {
     "name": "stdout",
     "output_type": "stream",
     "text": [
      "349 8 16 196\n"
     ]
    }
   ],
   "source": [
    "TN,FP,FN,TP=confusion_matrix(df['dn'],prediction).ravel()\n",
    "print(TN,FP,FN,TP)"
   ]
  },
  {
   "cell_type": "markdown",
   "metadata": {},
   "source": [
    "### 정확도 (Accuracy) \n",
    "- (TN + TP) / (TN + FN + FP + TP)"
   ]
  },
  {
   "cell_type": "code",
   "execution_count": 44,
   "metadata": {},
   "outputs": [
    {
     "name": "stdout",
     "output_type": "stream",
     "text": [
      "0.9578207381370826\n",
      "0.9578207381370826\n"
     ]
    }
   ],
   "source": [
    "# 직접 계산\n",
    "print((TN + TP) / (TN +FN +FP +TP))\n",
    "# 함수 계산\n",
    "print(accuracy_score(df['dn'],prediction))"
   ]
  },
  {
   "cell_type": "markdown",
   "metadata": {},
   "source": [
    "### 정밀도 (Precision)\n",
    "- TP / (TP +FP)"
   ]
  },
  {
   "cell_type": "code",
   "execution_count": 45,
   "metadata": {},
   "outputs": [
    {
     "name": "stdout",
     "output_type": "stream",
     "text": [
      "0.9607843137254902\n",
      "0.9607843137254902\n"
     ]
    }
   ],
   "source": [
    "# 직접 계산\n",
    "print(TP /(TP+FP))\n",
    "# 함수 계산\n",
    "print(precision_score(df['dn'],prediction))"
   ]
  },
  {
   "cell_type": "markdown",
   "metadata": {},
   "source": [
    "### 재현도 (Recall) \n",
    "- TP / (TP + FN)"
   ]
  },
  {
   "cell_type": "code",
   "execution_count": 47,
   "metadata": {},
   "outputs": [
    {
     "name": "stdout",
     "output_type": "stream",
     "text": [
      "0.9245283018867925\n",
      "0.9245283018867925\n"
     ]
    }
   ],
   "source": [
    "# 직접 계산\n",
    "print(TP / (TP+FN))\n",
    "# 함수 계산\n",
    "print(recall_score(df['dn'],prediction))"
   ]
  },
  {
   "cell_type": "markdown",
   "metadata": {},
   "source": [
    "### 모형2\n",
    "- 독립변수: area_worst, smoothness_worst, symmetry_worst\n",
    "- 종속변수: diagnosis"
   ]
  },
  {
   "cell_type": "code",
   "execution_count": 24,
   "metadata": {},
   "outputs": [
    {
     "name": "stdout",
     "output_type": "stream",
     "text": [
      "Optimization terminated successfully.\n",
      "         Current function value: 0.112809\n",
      "         Iterations 10\n"
     ]
    },
    {
     "data": {
      "text/html": [
       "<table class=\"simpletable\">\n",
       "<caption>Logit Regression Results</caption>\n",
       "<tr>\n",
       "  <th>Dep. Variable:</th>          <td>dn</td>        <th>  No. Observations:  </th>   <td>   569</td>  \n",
       "</tr>\n",
       "<tr>\n",
       "  <th>Model:</th>                 <td>Logit</td>      <th>  Df Residuals:      </th>   <td>   565</td>  \n",
       "</tr>\n",
       "<tr>\n",
       "  <th>Method:</th>                 <td>MLE</td>       <th>  Df Model:          </th>   <td>     3</td>  \n",
       "</tr>\n",
       "<tr>\n",
       "  <th>Date:</th>            <td>Wed, 28 Oct 2020</td> <th>  Pseudo R-squ.:     </th>   <td>0.8292</td>  \n",
       "</tr>\n",
       "<tr>\n",
       "  <th>Time:</th>                <td>12:32:09</td>     <th>  Log-Likelihood:    </th>  <td> -64.189</td> \n",
       "</tr>\n",
       "<tr>\n",
       "  <th>converged:</th>             <td>True</td>       <th>  LL-Null:           </th>  <td> -375.72</td> \n",
       "</tr>\n",
       "<tr>\n",
       "  <th>Covariance Type:</th>     <td>nonrobust</td>    <th>  LLR p-value:       </th> <td>1.008e-134</td>\n",
       "</tr>\n",
       "</table>\n",
       "<table class=\"simpletable\">\n",
       "<tr>\n",
       "          <td></td>            <th>coef</th>     <th>std err</th>      <th>z</th>      <th>P>|z|</th>  <th>[0.025</th>    <th>0.975]</th>  \n",
       "</tr>\n",
       "<tr>\n",
       "  <th>Intercept</th>        <td>  -26.4085</td> <td>    3.145</td> <td>   -8.398</td> <td> 0.000</td> <td>  -32.572</td> <td>  -20.245</td>\n",
       "</tr>\n",
       "<tr>\n",
       "  <th>area_worst</th>       <td>    0.0148</td> <td>    0.002</td> <td>    8.272</td> <td> 0.000</td> <td>    0.011</td> <td>    0.018</td>\n",
       "</tr>\n",
       "<tr>\n",
       "  <th>smoothness_worst</th> <td>   76.7460</td> <td>   14.452</td> <td>    5.311</td> <td> 0.000</td> <td>   48.421</td> <td>  105.071</td>\n",
       "</tr>\n",
       "<tr>\n",
       "  <th>symmetry_worst</th>   <td>   12.3211</td> <td>    4.223</td> <td>    2.918</td> <td> 0.004</td> <td>    4.044</td> <td>   20.598</td>\n",
       "</tr>\n",
       "</table><br/><br/>Possibly complete quasi-separation: A fraction 0.21 of observations can be<br/>perfectly predicted. This might indicate that there is complete<br/>quasi-separation. In this case some parameters will not be identified."
      ],
      "text/plain": [
       "<class 'statsmodels.iolib.summary.Summary'>\n",
       "\"\"\"\n",
       "                           Logit Regression Results                           \n",
       "==============================================================================\n",
       "Dep. Variable:                     dn   No. Observations:                  569\n",
       "Model:                          Logit   Df Residuals:                      565\n",
       "Method:                           MLE   Df Model:                            3\n",
       "Date:                Wed, 28 Oct 2020   Pseudo R-squ.:                  0.8292\n",
       "Time:                        12:32:09   Log-Likelihood:                -64.189\n",
       "converged:                       True   LL-Null:                       -375.72\n",
       "Covariance Type:            nonrobust   LLR p-value:                1.008e-134\n",
       "====================================================================================\n",
       "                       coef    std err          z      P>|z|      [0.025      0.975]\n",
       "------------------------------------------------------------------------------------\n",
       "Intercept          -26.4085      3.145     -8.398      0.000     -32.572     -20.245\n",
       "area_worst           0.0148      0.002      8.272      0.000       0.011       0.018\n",
       "smoothness_worst    76.7460     14.452      5.311      0.000      48.421     105.071\n",
       "symmetry_worst      12.3211      4.223      2.918      0.004       4.044      20.598\n",
       "====================================================================================\n",
       "\n",
       "Possibly complete quasi-separation: A fraction 0.21 of observations can be\n",
       "perfectly predicted. This might indicate that there is complete\n",
       "quasi-separation. In this case some parameters will not be identified.\n",
       "\"\"\""
      ]
     },
     "execution_count": 24,
     "metadata": {},
     "output_type": "execute_result"
    }
   ],
   "source": [
    "res2=logit('dn ~ area_worst + smoothness_worst + symmetry_worst ', df).fit()\n",
    "res2.summary()"
   ]
  },
  {
   "cell_type": "markdown",
   "metadata": {},
   "source": [
    "- 모형 1의 로그우도: -63\n",
    "- 모형 2의 로그우도: -64\n",
    "\n",
    "*로그우도: log-likelihood"
   ]
  },
  {
   "cell_type": "markdown",
   "metadata": {},
   "source": [
    "### 로그우도 비교"
   ]
  },
  {
   "cell_type": "code",
   "execution_count": 28,
   "metadata": {},
   "outputs": [
    {
     "name": "stdout",
     "output_type": "stream",
     "text": [
      "-63.748661223724966\n",
      "-64.18856127457728\n"
     ]
    }
   ],
   "source": [
    "print(res.llf)\n",
    "print(res2.llf)"
   ]
  },
  {
   "cell_type": "markdown",
   "metadata": {},
   "source": [
    "### AIC, BIC 비교 (적합한 모형 찾기)"
   ]
  },
  {
   "cell_type": "code",
   "execution_count": 30,
   "metadata": {},
   "outputs": [
    {
     "name": "stdout",
     "output_type": "stream",
     "text": [
      "137.49732244744993\n",
      "136.37712254915456\n"
     ]
    }
   ],
   "source": [
    "# aic 모형2가 더작음\n",
    "print(res.aic)\n",
    "print(res2.aic)"
   ]
  },
  {
   "cell_type": "code",
   "execution_count": 33,
   "metadata": {},
   "outputs": [
    {
     "name": "stdout",
     "output_type": "stream",
     "text": [
      "159.21672461808157\n",
      "153.7526442856599\n"
     ]
    }
   ],
   "source": [
    "# bic 모형2가 더작음\n",
    "print(res.bic)\n",
    "print(res2.bic)"
   ]
  },
  {
   "cell_type": "markdown",
   "metadata": {},
   "source": [
    "무조건 복잡한 모형이 로그우도가 높기 때문에, 로그우도가 높은 모형을 고르면 새로운 데이터에 대해서는 맞추지 못할 수 있어서\n",
    "보정된 모형을 사용함 (AIC, BIC)\n",
    "\n",
    "기존 데이터에 대해서는 모형1이 잘한다고 볼수있지만, 새로운 데이터에 대해서는 모형2가 좋음\n"
   ]
  },
  {
   "cell_type": "code",
   "execution_count": null,
   "metadata": {},
   "outputs": [],
   "source": []
  }
 ],
 "metadata": {
  "kernelspec": {
   "display_name": "Python 3",
   "language": "python",
   "name": "python3"
  },
  "language_info": {
   "codemirror_mode": {
    "name": "ipython",
    "version": 3
   },
   "file_extension": ".py",
   "mimetype": "text/x-python",
   "name": "python",
   "nbconvert_exporter": "python",
   "pygments_lexer": "ipython3",
   "version": "3.8.3"
  }
 },
 "nbformat": 4,
 "nbformat_minor": 4
}
