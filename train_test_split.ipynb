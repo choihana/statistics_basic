{
 "cells": [
  {
   "cell_type": "markdown",
   "metadata": {},
   "source": [
    "\n",
    "A/B 테스팅 데이터를 분석을 해보십시오.\n",
    "\n",
    "독립변수는 weekend와 group을 사용하고 종속변수는 click으로 하여 로지스틱 회귀분석을 해보세요.\n",
    "\n",
    "단, 데이터에서 분할하여 80%는 추정용으로 사용하고, 나머지 20%는 테스트용으로 사용하세요. (random_state=1234로 설정)\n",
    "\n",
    "모형 1은 click ~ weekend + group로, 모형 2는 click ~ weekend + group + weekend:group으로 분석하세요."
   ]
  },
  {
   "cell_type": "code",
   "execution_count": 1,
   "metadata": {},
   "outputs": [],
   "source": [
    "import pandas as pd"
   ]
  },
  {
   "cell_type": "markdown",
   "metadata": {},
   "source": [
    "### 데이터 불러오기\n",
    "\n",
    "A/B 테스팅 데이터: 주중/주말 별 group에 따른 클릭율 \n",
    "- weekend: 주말 - 1 , 주중 - 0\n",
    "- 독립변수: weekend, group\n",
    "- 종속변수: click\n"
   ]
  },
  {
   "cell_type": "code",
   "execution_count": 62,
   "metadata": {},
   "outputs": [
    {
     "data": {
      "text/html": [
       "<div>\n",
       "<style scoped>\n",
       "    .dataframe tbody tr th:only-of-type {\n",
       "        vertical-align: middle;\n",
       "    }\n",
       "\n",
       "    .dataframe tbody tr th {\n",
       "        vertical-align: top;\n",
       "    }\n",
       "\n",
       "    .dataframe thead th {\n",
       "        text-align: right;\n",
       "    }\n",
       "</style>\n",
       "<table border=\"1\" class=\"dataframe\">\n",
       "  <thead>\n",
       "    <tr style=\"text-align: right;\">\n",
       "      <th></th>\n",
       "      <th>weekend</th>\n",
       "      <th>group</th>\n",
       "      <th>click</th>\n",
       "    </tr>\n",
       "  </thead>\n",
       "  <tbody>\n",
       "    <tr>\n",
       "      <th>0</th>\n",
       "      <td>1</td>\n",
       "      <td>A</td>\n",
       "      <td>0</td>\n",
       "    </tr>\n",
       "    <tr>\n",
       "      <th>1</th>\n",
       "      <td>1</td>\n",
       "      <td>A</td>\n",
       "      <td>1</td>\n",
       "    </tr>\n",
       "    <tr>\n",
       "      <th>2</th>\n",
       "      <td>0</td>\n",
       "      <td>B</td>\n",
       "      <td>0</td>\n",
       "    </tr>\n",
       "    <tr>\n",
       "      <th>3</th>\n",
       "      <td>0</td>\n",
       "      <td>B</td>\n",
       "      <td>1</td>\n",
       "    </tr>\n",
       "    <tr>\n",
       "      <th>4</th>\n",
       "      <td>0</td>\n",
       "      <td>A</td>\n",
       "      <td>1</td>\n",
       "    </tr>\n",
       "  </tbody>\n",
       "</table>\n",
       "</div>"
      ],
      "text/plain": [
       "   weekend group  click\n",
       "0        1     A      0\n",
       "1        1     A      1\n",
       "2        0     B      0\n",
       "3        0     B      1\n",
       "4        0     A      1"
      ]
     },
     "execution_count": 62,
     "metadata": {},
     "output_type": "execute_result"
    }
   ],
   "source": [
    "df=pd.read_excel('data/abtest.xlsx')\n",
    "df.head()"
   ]
  },
  {
   "cell_type": "code",
   "execution_count": 64,
   "metadata": {},
   "outputs": [
    {
     "data": {
      "text/plain": [
       "(10000, 3)"
      ]
     },
     "execution_count": 64,
     "metadata": {},
     "output_type": "execute_result"
    }
   ],
   "source": [
    "df.shape"
   ]
  },
  {
   "cell_type": "markdown",
   "metadata": {},
   "source": [
    "### 데이터 분할\n",
    "분할(test_size=0.2: 20%를 테스트용, random_state=1234: 난수를 생성할 때 초기값을 1234로 설정)  \n",
    "데이터 과적합을 방지하기 위해서 데이터를 랜덤하게 쪼개어서 train data로 모델링하고, test 데이터로 예측한다.\n"
   ]
  },
  {
   "cell_type": "code",
   "execution_count": 44,
   "metadata": {},
   "outputs": [],
   "source": [
    "from sklearn.model_selection import train_test_split"
   ]
  },
  {
   "cell_type": "code",
   "execution_count": 45,
   "metadata": {},
   "outputs": [],
   "source": [
    "# test 20%, train80%\n",
    "train_df, test_df = train_test_split(df, test_size=0.2, random_state=1234)"
   ]
  },
  {
   "cell_type": "markdown",
   "metadata": {},
   "source": [
    "### 로지스틱 회귀분석"
   ]
  },
  {
   "cell_type": "code",
   "execution_count": 10,
   "metadata": {},
   "outputs": [],
   "source": [
    "from statsmodels.formula.api import logit"
   ]
  },
  {
   "cell_type": "code",
   "execution_count": 47,
   "metadata": {},
   "outputs": [
    {
     "name": "stdout",
     "output_type": "stream",
     "text": [
      "Optimization terminated successfully.\n",
      "         Current function value: 0.682483\n",
      "         Iterations 4\n"
     ]
    },
    {
     "data": {
      "text/html": [
       "<table class=\"simpletable\">\n",
       "<caption>Logit Regression Results</caption>\n",
       "<tr>\n",
       "  <th>Dep. Variable:</th>         <td>click</td>      <th>  No. Observations:  </th>  <td>  8000</td>  \n",
       "</tr>\n",
       "<tr>\n",
       "  <th>Model:</th>                 <td>Logit</td>      <th>  Df Residuals:      </th>  <td>  7997</td>  \n",
       "</tr>\n",
       "<tr>\n",
       "  <th>Method:</th>                 <td>MLE</td>       <th>  Df Model:          </th>  <td>     2</td>  \n",
       "</tr>\n",
       "<tr>\n",
       "  <th>Date:</th>            <td>Fri, 30 Oct 2020</td> <th>  Pseudo R-squ.:     </th>  <td>0.01536</td> \n",
       "</tr>\n",
       "<tr>\n",
       "  <th>Time:</th>                <td>22:16:02</td>     <th>  Log-Likelihood:    </th> <td> -5459.9</td> \n",
       "</tr>\n",
       "<tr>\n",
       "  <th>converged:</th>             <td>True</td>       <th>  LL-Null:           </th> <td> -5545.0</td> \n",
       "</tr>\n",
       "<tr>\n",
       "  <th>Covariance Type:</th>     <td>nonrobust</td>    <th>  LLR p-value:       </th> <td>1.030e-37</td>\n",
       "</tr>\n",
       "</table>\n",
       "<table class=\"simpletable\">\n",
       "<tr>\n",
       "       <td></td>         <th>coef</th>     <th>std err</th>      <th>z</th>      <th>P>|z|</th>  <th>[0.025</th>    <th>0.975]</th>  \n",
       "</tr>\n",
       "<tr>\n",
       "  <th>Intercept</th>  <td>    0.1358</td> <td>    0.035</td> <td>    3.916</td> <td> 0.000</td> <td>    0.068</td> <td>    0.204</td>\n",
       "</tr>\n",
       "<tr>\n",
       "  <th>group[T.B]</th> <td>   -0.4721</td> <td>    0.045</td> <td>  -10.443</td> <td> 0.000</td> <td>   -0.561</td> <td>   -0.384</td>\n",
       "</tr>\n",
       "<tr>\n",
       "  <th>weekend</th>    <td>    0.3845</td> <td>    0.050</td> <td>    7.641</td> <td> 0.000</td> <td>    0.286</td> <td>    0.483</td>\n",
       "</tr>\n",
       "</table>"
      ],
      "text/plain": [
       "<class 'statsmodels.iolib.summary.Summary'>\n",
       "\"\"\"\n",
       "                           Logit Regression Results                           \n",
       "==============================================================================\n",
       "Dep. Variable:                  click   No. Observations:                 8000\n",
       "Model:                          Logit   Df Residuals:                     7997\n",
       "Method:                           MLE   Df Model:                            2\n",
       "Date:                Fri, 30 Oct 2020   Pseudo R-squ.:                 0.01536\n",
       "Time:                        22:16:02   Log-Likelihood:                -5459.9\n",
       "converged:                       True   LL-Null:                       -5545.0\n",
       "Covariance Type:            nonrobust   LLR p-value:                 1.030e-37\n",
       "==============================================================================\n",
       "                 coef    std err          z      P>|z|      [0.025      0.975]\n",
       "------------------------------------------------------------------------------\n",
       "Intercept      0.1358      0.035      3.916      0.000       0.068       0.204\n",
       "group[T.B]    -0.4721      0.045    -10.443      0.000      -0.561      -0.384\n",
       "weekend        0.3845      0.050      7.641      0.000       0.286       0.483\n",
       "==============================================================================\n",
       "\"\"\""
      ]
     },
     "execution_count": 47,
     "metadata": {},
     "output_type": "execute_result"
    }
   ],
   "source": [
    "#모형1 click ~ weekend + group\n",
    "res1 = logit('click ~ weekend + group',train_df).fit()\n",
    "res1.summary()"
   ]
  },
  {
   "cell_type": "code",
   "execution_count": 48,
   "metadata": {},
   "outputs": [
    {
     "name": "stdout",
     "output_type": "stream",
     "text": [
      "Optimization terminated successfully.\n",
      "         Current function value: 0.654409\n",
      "         Iterations 5\n"
     ]
    },
    {
     "data": {
      "text/html": [
       "<table class=\"simpletable\">\n",
       "<caption>Logit Regression Results</caption>\n",
       "<tr>\n",
       "  <th>Dep. Variable:</th>         <td>click</td>      <th>  No. Observations:  </th>   <td>  8000</td>  \n",
       "</tr>\n",
       "<tr>\n",
       "  <th>Model:</th>                 <td>Logit</td>      <th>  Df Residuals:      </th>   <td>  7996</td>  \n",
       "</tr>\n",
       "<tr>\n",
       "  <th>Method:</th>                 <td>MLE</td>       <th>  Df Model:          </th>   <td>     3</td>  \n",
       "</tr>\n",
       "<tr>\n",
       "  <th>Date:</th>            <td>Fri, 30 Oct 2020</td> <th>  Pseudo R-squ.:     </th>   <td>0.05586</td> \n",
       "</tr>\n",
       "<tr>\n",
       "  <th>Time:</th>                <td>22:16:13</td>     <th>  Log-Likelihood:    </th>  <td> -5235.3</td> \n",
       "</tr>\n",
       "<tr>\n",
       "  <th>converged:</th>             <td>True</td>       <th>  LL-Null:           </th>  <td> -5545.0</td> \n",
       "</tr>\n",
       "<tr>\n",
       "  <th>Covariance Type:</th>     <td>nonrobust</td>    <th>  LLR p-value:       </th> <td>5.894e-134</td>\n",
       "</tr>\n",
       "</table>\n",
       "<table class=\"simpletable\">\n",
       "<tr>\n",
       "           <td></td>             <th>coef</th>     <th>std err</th>      <th>z</th>      <th>P>|z|</th>  <th>[0.025</th>    <th>0.975]</th>  \n",
       "</tr>\n",
       "<tr>\n",
       "  <th>Intercept</th>          <td>    0.4345</td> <td>    0.038</td> <td>   11.389</td> <td> 0.000</td> <td>    0.360</td> <td>    0.509</td>\n",
       "</tr>\n",
       "<tr>\n",
       "  <th>group[T.B]</th>         <td>   -1.0853</td> <td>    0.055</td> <td>  -19.766</td> <td> 0.000</td> <td>   -1.193</td> <td>   -0.978</td>\n",
       "</tr>\n",
       "<tr>\n",
       "  <th>weekend</th>            <td>   -0.6382</td> <td>    0.070</td> <td>   -9.141</td> <td> 0.000</td> <td>   -0.775</td> <td>   -0.501</td>\n",
       "</tr>\n",
       "<tr>\n",
       "  <th>weekend:group[T.B]</th> <td>    2.1595</td> <td>    0.104</td> <td>   20.742</td> <td> 0.000</td> <td>    1.955</td> <td>    2.364</td>\n",
       "</tr>\n",
       "</table>"
      ],
      "text/plain": [
       "<class 'statsmodels.iolib.summary.Summary'>\n",
       "\"\"\"\n",
       "                           Logit Regression Results                           \n",
       "==============================================================================\n",
       "Dep. Variable:                  click   No. Observations:                 8000\n",
       "Model:                          Logit   Df Residuals:                     7996\n",
       "Method:                           MLE   Df Model:                            3\n",
       "Date:                Fri, 30 Oct 2020   Pseudo R-squ.:                 0.05586\n",
       "Time:                        22:16:13   Log-Likelihood:                -5235.3\n",
       "converged:                       True   LL-Null:                       -5545.0\n",
       "Covariance Type:            nonrobust   LLR p-value:                5.894e-134\n",
       "======================================================================================\n",
       "                         coef    std err          z      P>|z|      [0.025      0.975]\n",
       "--------------------------------------------------------------------------------------\n",
       "Intercept              0.4345      0.038     11.389      0.000       0.360       0.509\n",
       "group[T.B]            -1.0853      0.055    -19.766      0.000      -1.193      -0.978\n",
       "weekend               -0.6382      0.070     -9.141      0.000      -0.775      -0.501\n",
       "weekend:group[T.B]     2.1595      0.104     20.742      0.000       1.955       2.364\n",
       "======================================================================================\n",
       "\"\"\""
      ]
     },
     "execution_count": 48,
     "metadata": {},
     "output_type": "execute_result"
    }
   ],
   "source": [
    "#모형2 click ~ weekend + group + weekend:group\n",
    "res2 = logit('click ~ weekend + group + weekend:group',train_df).fit()\n",
    "res2.summary()"
   ]
  },
  {
   "cell_type": "markdown",
   "metadata": {},
   "source": [
    "## 모형 비교\n",
    "aic, bic 작을수록 좋음"
   ]
  },
  {
   "cell_type": "code",
   "execution_count": 19,
   "metadata": {},
   "outputs": [
    {
     "name": "stdout",
     "output_type": "stream",
     "text": [
      "10925.735420066721\n",
      "10506.489989442214\n"
     ]
    }
   ],
   "source": [
    "print(res1.aic)\n",
    "print(res2.aic)"
   ]
  },
  {
   "cell_type": "code",
   "execution_count": 20,
   "metadata": {},
   "outputs": [
    {
     "name": "stdout",
     "output_type": "stream",
     "text": [
      "10946.697010528707\n",
      "10506.489989442214\n"
     ]
    }
   ],
   "source": [
    "print(res1.bic)\n",
    "print(res2.bic)"
   ]
  },
  {
   "cell_type": "markdown",
   "metadata": {},
   "source": [
    "## 모델 평가"
   ]
  },
  {
   "cell_type": "code",
   "execution_count": 49,
   "metadata": {},
   "outputs": [],
   "source": [
    "from sklearn.metrics import confusion_matrix\n",
    "from sklearn.metrics import accuracy_score, precision_score, recall_score"
   ]
  },
  {
   "cell_type": "code",
   "execution_count": 50,
   "metadata": {},
   "outputs": [],
   "source": [
    "import numpy\n",
    "predict1 = res1.predict(test_df)\n",
    "predict2 = res2.predict(test_df)\n",
    "\n",
    "prediction1 = numpy.where(predict1 > 0.5,1,0)\n",
    "prediction2 = numpy.where(predict2 > 0.5,1,0)"
   ]
  },
  {
   "cell_type": "markdown",
   "metadata": {},
   "source": [
    "### 1) 정확도 비교"
   ]
  },
  {
   "cell_type": "code",
   "execution_count": 51,
   "metadata": {},
   "outputs": [
    {
     "name": "stdout",
     "output_type": "stream",
     "text": [
      "0.6085\n",
      "0.613\n"
     ]
    }
   ],
   "source": [
    "print(accuracy_score(test_df['click'],prediction1))\n",
    "print(accuracy_score(test_df['click'],prediction2))"
   ]
  },
  {
   "cell_type": "markdown",
   "metadata": {},
   "source": [
    "### 2) 정밀도 비교"
   ]
  },
  {
   "cell_type": "code",
   "execution_count": 52,
   "metadata": {},
   "outputs": [
    {
     "name": "stdout",
     "output_type": "stream",
     "text": [
      "0.5794392523364486\n",
      "0.6068204613841525\n"
     ]
    }
   ],
   "source": [
    "print(precision_score(test_df['click'],prediction1))\n",
    "print(precision_score(test_df['click'],prediction2))"
   ]
  },
  {
   "cell_type": "markdown",
   "metadata": {},
   "source": [
    "### 3) 재현도 비교"
   ]
  },
  {
   "cell_type": "code",
   "execution_count": 54,
   "metadata": {},
   "outputs": [
    {
     "name": "stdout",
     "output_type": "stream",
     "text": [
      "0.7537993920972644\n",
      "0.6129685916919959\n"
     ]
    }
   ],
   "source": [
    "print(recall_score(test_df['click'],prediction1))\n",
    "print(recall_score(test_df['click'],prediction2))"
   ]
  },
  {
   "cell_type": "markdown",
   "metadata": {},
   "source": [
    "## 모형2의 결과 해석을 위한 수식 만들기"
   ]
  },
  {
   "cell_type": "code",
   "execution_count": 55,
   "metadata": {},
   "outputs": [
    {
     "data": {
      "text/html": [
       "<table class=\"simpletable\">\n",
       "<caption>Logit Regression Results</caption>\n",
       "<tr>\n",
       "  <th>Dep. Variable:</th>         <td>click</td>      <th>  No. Observations:  </th>   <td>  8000</td>  \n",
       "</tr>\n",
       "<tr>\n",
       "  <th>Model:</th>                 <td>Logit</td>      <th>  Df Residuals:      </th>   <td>  7996</td>  \n",
       "</tr>\n",
       "<tr>\n",
       "  <th>Method:</th>                 <td>MLE</td>       <th>  Df Model:          </th>   <td>     3</td>  \n",
       "</tr>\n",
       "<tr>\n",
       "  <th>Date:</th>            <td>Fri, 30 Oct 2020</td> <th>  Pseudo R-squ.:     </th>   <td>0.05586</td> \n",
       "</tr>\n",
       "<tr>\n",
       "  <th>Time:</th>                <td>22:26:14</td>     <th>  Log-Likelihood:    </th>  <td> -5235.3</td> \n",
       "</tr>\n",
       "<tr>\n",
       "  <th>converged:</th>             <td>True</td>       <th>  LL-Null:           </th>  <td> -5545.0</td> \n",
       "</tr>\n",
       "<tr>\n",
       "  <th>Covariance Type:</th>     <td>nonrobust</td>    <th>  LLR p-value:       </th> <td>5.894e-134</td>\n",
       "</tr>\n",
       "</table>\n",
       "<table class=\"simpletable\">\n",
       "<tr>\n",
       "           <td></td>             <th>coef</th>     <th>std err</th>      <th>z</th>      <th>P>|z|</th>  <th>[0.025</th>    <th>0.975]</th>  \n",
       "</tr>\n",
       "<tr>\n",
       "  <th>Intercept</th>          <td>    0.4345</td> <td>    0.038</td> <td>   11.389</td> <td> 0.000</td> <td>    0.360</td> <td>    0.509</td>\n",
       "</tr>\n",
       "<tr>\n",
       "  <th>group[T.B]</th>         <td>   -1.0853</td> <td>    0.055</td> <td>  -19.766</td> <td> 0.000</td> <td>   -1.193</td> <td>   -0.978</td>\n",
       "</tr>\n",
       "<tr>\n",
       "  <th>weekend</th>            <td>   -0.6382</td> <td>    0.070</td> <td>   -9.141</td> <td> 0.000</td> <td>   -0.775</td> <td>   -0.501</td>\n",
       "</tr>\n",
       "<tr>\n",
       "  <th>weekend:group[T.B]</th> <td>    2.1595</td> <td>    0.104</td> <td>   20.742</td> <td> 0.000</td> <td>    1.955</td> <td>    2.364</td>\n",
       "</tr>\n",
       "</table>"
      ],
      "text/plain": [
       "<class 'statsmodels.iolib.summary.Summary'>\n",
       "\"\"\"\n",
       "                           Logit Regression Results                           \n",
       "==============================================================================\n",
       "Dep. Variable:                  click   No. Observations:                 8000\n",
       "Model:                          Logit   Df Residuals:                     7996\n",
       "Method:                           MLE   Df Model:                            3\n",
       "Date:                Fri, 30 Oct 2020   Pseudo R-squ.:                 0.05586\n",
       "Time:                        22:26:14   Log-Likelihood:                -5235.3\n",
       "converged:                       True   LL-Null:                       -5545.0\n",
       "Covariance Type:            nonrobust   LLR p-value:                5.894e-134\n",
       "======================================================================================\n",
       "                         coef    std err          z      P>|z|      [0.025      0.975]\n",
       "--------------------------------------------------------------------------------------\n",
       "Intercept              0.4345      0.038     11.389      0.000       0.360       0.509\n",
       "group[T.B]            -1.0853      0.055    -19.766      0.000      -1.193      -0.978\n",
       "weekend               -0.6382      0.070     -9.141      0.000      -0.775      -0.501\n",
       "weekend:group[T.B]     2.1595      0.104     20.742      0.000       1.955       2.364\n",
       "======================================================================================\n",
       "\"\"\""
      ]
     },
     "execution_count": 55,
     "metadata": {},
     "output_type": "execute_result"
    }
   ],
   "source": [
    "res2.summary()"
   ]
  },
  {
   "cell_type": "markdown",
   "metadata": {},
   "source": [
    "group[T.B]: group이 B인가요?  \n",
    "- group='A' 일때 0 (no)\n",
    "- group='B' 일때 1 (yes)"
   ]
  },
  {
   "cell_type": "code",
   "execution_count": 56,
   "metadata": {},
   "outputs": [],
   "source": [
    "intercept = 0.4345\n",
    "groupB=-1.0853\n",
    "weekend=-0.6382\n",
    "w_groupB=2.1595"
   ]
  },
  {
   "cell_type": "code",
   "execution_count": 57,
   "metadata": {},
   "outputs": [],
   "source": [
    "# 수식 만들기\n",
    "def logit_value(w,g):\n",
    "    y = intercept + (groupB * g) + (weekend * w) + (w_groupB * w * g)\n",
    "    return y"
   ]
  },
  {
   "cell_type": "code",
   "execution_count": 59,
   "metadata": {},
   "outputs": [
    {
     "name": "stdout",
     "output_type": "stream",
     "text": [
      "0.4345\n",
      "-0.6507999999999999\n"
     ]
    }
   ],
   "source": [
    "# 주중: groupA 가 groupB보다 클릭율이 높다\n",
    "# 1) group A\n",
    "print(logit_value(0,0))\n",
    "# 2) gropu B\n",
    "print(logit_value(0,1))"
   ]
  },
  {
   "cell_type": "code",
   "execution_count": 61,
   "metadata": {},
   "outputs": [
    {
     "name": "stdout",
     "output_type": "stream",
     "text": [
      "-0.2037\n",
      "0.8705\n"
     ]
    }
   ],
   "source": [
    "# 주말: groupA 가 groupB보다 클릭율이 낮다\n",
    "# 1) group A\n",
    "print(logit_value(1,0))\n",
    "# 2) gropu B\n",
    "print(logit_value(1,1))"
   ]
  },
  {
   "cell_type": "markdown",
   "metadata": {},
   "source": [
    "\n",
    "#### Q1. aic와 bic로 비교할 때 어떤 모형이 더 나은 모형입니까?\n",
    "- 모형2\n",
    "\n",
    "#### Q2. 테스트 데이터를 이용해서 모형 1과 모형2의 정확도를 평가해보세요. (문턱값 0.5) 어떤 모형의 정확도가 더 높습니까?\n",
    "- 모형2\n",
    "\n",
    "#### Q3. 모형2의 기울기를 해석해보세요. 어떤 결론을 내릴 수 있습니까? (weekend=1 이 주말)\n",
    "- 주중에는 A안, 주말에는 B안이 더 클릭이 많이 된다"
   ]
  },
  {
   "cell_type": "code",
   "execution_count": null,
   "metadata": {},
   "outputs": [],
   "source": []
  }
 ],
 "metadata": {
  "kernelspec": {
   "display_name": "Python 3",
   "language": "python",
   "name": "python3"
  },
  "language_info": {
   "codemirror_mode": {
    "name": "ipython",
    "version": 3
   },
   "file_extension": ".py",
   "mimetype": "text/x-python",
   "name": "python",
   "nbconvert_exporter": "python",
   "pygments_lexer": "ipython3",
   "version": "3.8.3"
  }
 },
 "nbformat": 4,
 "nbformat_minor": 4
}
